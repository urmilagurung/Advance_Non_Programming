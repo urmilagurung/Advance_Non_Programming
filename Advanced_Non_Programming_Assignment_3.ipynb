{
 "cells": [
  {
   "cell_type": "markdown",
   "metadata": {},
   "source": [
    "# Advanced Non Programming Assignment 3"
   ]
  },
  {
   "cell_type": "markdown",
   "metadata": {},
   "source": [
    "1. What is the concept of an abstract superclass?"
   ]
  },
  {
   "cell_type": "markdown",
   "metadata": {},
   "source": [
    "An abstract class can be considered as a blueprint for other classes. It allows to create a set of methods that must be created within any child classes built from the abstract class.\n",
    "\n",
    "An abstract superclass is the common superclass for several subclasses. Factor up common behavior. Define the methods they all respond to. Methods that subclasses should implement are declared abstract.\n",
    "\n",
    "Superclass being an abstract class creates an overhead for all its sub classes to compulsorily define its abstract methods.\n",
    "\n",
    "An abstract superclass is one way to provide re-usable code.\n",
    "\n",
    "1. You can extend the abstract class and inherit the code. This is sometimes more convenient than using static methods or object composition to share code.\n",
    "\n",
    "2. The abstract class can \"fix\" parts of the code (by making it final). This is called the \"template method\" pattern (and this is not possible with an interface, which cannot provide final methods).\n",
    "\n",
    "Of course, we can achieve both with a non-abstract superclass as well.\n",
    "\n",
    "An abstract class has the additional benefit that it does not have to provide a complete implementation (that would make sense to instantiate on its own), some parts can be left specified, but unimplemented (the abstract methods).\n",
    "\n",
    "Example:"
   ]
  },
  {
   "cell_type": "code",
   "execution_count": 4,
   "metadata": {},
   "outputs": [
    {
     "name": "stdout",
     "output_type": "stream",
     "text": [
      "Area of Rectangle :  1000\n"
     ]
    }
   ],
   "source": [
    "import abc\n",
    "\n",
    "class Shape(metaclass=abc.ABCMeta):\n",
    "    @abc.abstractmethod\n",
    "    def area(self):\n",
    "        pass\n",
    "\n",
    "class Rectangle(Shape):\n",
    "    def __init__(self,l,b):\n",
    "        self.l = l\n",
    "        self.b = b\n",
    "    \n",
    "    def area(self):\n",
    "        return self.l*self.b\n",
    "    \n",
    "r = Rectangle(10,100)\n",
    "print ('Area of Rectangle : ',r.area())"
   ]
  },
  {
   "cell_type": "markdown",
   "metadata": {},
   "source": [
    "The 'abc' module in Python library provides the infrastructure for defining custom abstract base classes.\n",
    "\n",
    "'abc' works by marking methods of the base class as abstract. This is done by @absttractmethod decorator. A concrete class which is a sub class of such abstract base class then implements the abstract base by overriding its abstract methods.\n",
    "\n",
    "The abc module defines ABCMeta class which is a metaclass for defining abstract base class. Following example defines Shape class as an abstract base class using ABCMeta. The shape class has area() method decorated by abstractmethod.\n",
    "\n",
    "A Rectangle class now uses above Shape class as its parent and implementing the abstract area() method. Since it is a concrete class, it can be instantiated and imlemented area() method can be called."
   ]
  },
  {
   "cell_type": "markdown",
   "metadata": {},
   "source": [
    "2. What happens when a class statement's top level contains a basic assignment statement?"
   ]
  },
  {
   "cell_type": "markdown",
   "metadata": {},
   "source": [
    "An assignment statement evaluates the expression list (remember that this can be a single expression or a comma-separated list, the later yielding a tuple) and assigns the single resulting object to each of the target lists, from left to right.\n",
    "\n",
    "In computer programming, an assignment statement sets and/or re-sets the value stored in the storage location(s) denoted by a variable name; in other words, it copies a value into the variable.\n",
    "\n",
    "An assignment statement stores a value in a variable.\n",
    "\n",
    "When class statement's top level contains a basic assignment statement, it is considered as class attribute. Change in the value of class attribute will affect all the instances of the class."
   ]
  },
  {
   "cell_type": "code",
   "execution_count": 2,
   "metadata": {},
   "outputs": [
    {
     "name": "stdout",
     "output_type": "stream",
     "text": [
      "123\n",
      "100\n",
      "200\n",
      "789\n",
      "789\n"
     ]
    }
   ],
   "source": [
    "class Statement:\n",
    "    some_val = 123\n",
    "    \n",
    "    def __init__(self, val1):\n",
    "        self.val1 = val1\n",
    "        \n",
    "stmt1 = Statement(100)       \n",
    "stmt2 = Statement(200)\n",
    "\n",
    "print(stmt1.some_val)\n",
    "print(stmt1.val1)\n",
    "print(stmt2.val1)\n",
    "\n",
    "Statement.some_val = 789\n",
    "\n",
    "#Observe value is changed for both the objects\n",
    "print(stmt1.some_val) \n",
    "print(stmt2.some_val)"
   ]
  },
  {
   "cell_type": "markdown",
   "metadata": {},
   "source": [
    "3. Why does a class need to manually call a superclass's __init__ method?"
   ]
  },
  {
   "cell_type": "markdown",
   "metadata": {},
   "source": [
    "A class need to manually call a superclass's __init__ method because by doing this we can access those methods of the super-class (parent class) which have been overridden in a sub-class (child class) that inherits from it.\n",
    "\n",
    "It is also because one needs to define something that is not done in the base-class init functions, and the only possibility to obtain that is to put its execution in a derived-class init function."
   ]
  },
  {
   "cell_type": "markdown",
   "metadata": {},
   "source": [
    "4. How can you augment, instead of completely replacing, an inherited method?"
   ]
  },
  {
   "cell_type": "markdown",
   "metadata": {},
   "source": [
    "We can you augment, instead of completely replacing, an inherited method in Python is by calling to the original version directly, with augmented arguments.\n",
    "\n",
    "Example:\n",
    "\n"
   ]
  },
  {
   "cell_type": "code",
   "execution_count": 23,
   "metadata": {
    "scrolled": true
   },
   "outputs": [
    {
     "name": "stdout",
     "output_type": "stream",
     "text": [
      "this spam has been poisoned!\n",
      "Updating Spam!\n",
      "this spam has been poisoned!\n",
      "This Spam is lite!\n",
      "Updating Spam!\n"
     ]
    }
   ],
   "source": [
    "#I have a list of Spam objects:\n",
    "\n",
    "class Spam:\n",
    "    def update(self):\n",
    "        print('Updating Spam!')\n",
    "\n",
    "#Some of them might be SpamLite objects:\n",
    "\n",
    "class SpamLite(Spam):\n",
    "    def update(self):\n",
    "        print('This Spam is lite!')\n",
    "        Spam.update(self)\n",
    "\n",
    "#I would like to be able to take an arbitrary object from the list, and add something to it's update method, something like:\n",
    "\n",
    "def poison(spam):\n",
    "    tmp = spam.update # it is a bound method that doesn't take any arguments\n",
    "    def newUpdate():\n",
    "        print('this spam has been poisoned!')\n",
    "        tmp()\n",
    "    spam.update = newUpdate\n",
    "\n",
    "spam = Spam()\n",
    "spam_lite = SpamLite()\n",
    "poison(spam)\n",
    "poison(spam_lite)\n",
    "spam.update()\n",
    "spam_lite.update()"
   ]
  },
  {
   "cell_type": "markdown",
   "metadata": {},
   "source": [
    "5. How is the local scope of a class different from that of a function?"
   ]
  },
  {
   "cell_type": "markdown",
   "metadata": {},
   "source": [
    "In class, if the variable is declared without self then it is accessible within that function only, kind of local variable. However if it declared using self like self.variable_name = 'somevalue', then it is accessible via any object but not via the class name.\n",
    "\n",
    "Whereas, if a variable is declared within a function then it is a local variable and is accessible to that function only."
   ]
  },
  {
   "cell_type": "markdown",
   "metadata": {},
   "source": [
    "Local variables have Function Scope: They can only be accessed from within the function. Since local variables are only recognized inside their functions, variables with the same name can be used in different functions. Local variables are created when a function starts, and deleted when the function is completed.\n",
    "\n",
    "A variable's scope is the range of the script where it is visible. Variables have either global or local scope. "
   ]
  },
  {
   "cell_type": "markdown",
   "metadata": {},
   "source": [
    "A global variable exists only once in a script, and is visible in every function. A local variable, however, has a limited scope: it exists only within the block that it is declared in.\n",
    "\n",
    "Global variables are variables declared outside a function. Local variables are variables declared inside a function. While global variables cannot be directly changed in a function, you can use the global keyword to create a function that will change the value of a global variable."
   ]
  }
 ],
 "metadata": {
  "kernelspec": {
   "display_name": "Python 3",
   "language": "python",
   "name": "python3"
  },
  "language_info": {
   "codemirror_mode": {
    "name": "ipython",
    "version": 3
   },
   "file_extension": ".py",
   "mimetype": "text/x-python",
   "name": "python",
   "nbconvert_exporter": "python",
   "pygments_lexer": "ipython3",
   "version": "3.8.5"
  }
 },
 "nbformat": 4,
 "nbformat_minor": 4
}
