{
 "cells": [
  {
   "cell_type": "markdown",
   "metadata": {},
   "source": [
    "# Advanced Non Programming Assignment 6"
   ]
  },
  {
   "cell_type": "markdown",
   "metadata": {},
   "source": [
    "Q1. Describe three applications for exception processing."
   ]
  },
  {
   "cell_type": "markdown",
   "metadata": {},
   "source": [
    "Exceptions are raised when the program is syntactically correct, but the code resulted in an error. This error does not stop the execution of the program, however, it changes the normal flow of the program."
   ]
  },
  {
   "cell_type": "code",
   "execution_count": 1,
   "metadata": {},
   "outputs": [
    {
     "name": "stdout",
     "output_type": "stream",
     "text": [
      "Enter a:10\n",
      "Enter b:0\n",
      "division by zero\n",
      "can't divide by zero\n"
     ]
    }
   ],
   "source": [
    "#Case 1 : Exception of division by zero\n",
    "\n",
    "def div(a,b):   \n",
    "    try: \n",
    "        # code executes here        \n",
    "        c = a/b  \n",
    "        print(\"a/b = \",c)    \n",
    "        # Using exception object with the except statement  \n",
    "    except Exception as e:    \n",
    "        print(e)  \n",
    "        return \"can't divide by zero\"\n",
    "    else:    \n",
    "        return \"This is else block and executed when code in try excetues without any exception\"\n",
    "        \n",
    "a = int(input(\"Enter a:\"))    \n",
    "b = int(input(\"Enter b:\"))           \n",
    "print(div(a,b))"
   ]
  },
  {
   "cell_type": "code",
   "execution_count": 2,
   "metadata": {},
   "outputs": [
    {
     "name": "stdout",
     "output_type": "stream",
     "text": [
      "[Errno 2] No such file or directory: 'sample.txt'\n",
      "Program is not interrupted\n"
     ]
    }
   ],
   "source": [
    "#Case 2 : Reading File named sample.txt\n",
    "try:\n",
    "    f = open('sample.txt','r')\n",
    "except Exception as e:\n",
    "    print(e)\n",
    "else:\n",
    "    print(\"File opened successfully\")\n",
    "    f.close()\n",
    "    \n",
    "print('Program is not interrupted')    \n",
    "\n",
    "\n",
    "# If we dont use try except else blocks, normal execution of program will be interrupted.\n",
    "\n",
    "# with try except, exception is caught when file is not found but program continues execution"
   ]
  },
  {
   "cell_type": "code",
   "execution_count": 5,
   "metadata": {},
   "outputs": [
    {
     "name": "stdout",
     "output_type": "stream",
     "text": [
      "Exception!!\n"
     ]
    }
   ],
   "source": [
    "#Case 2 : Name not found globally\n",
    "try:\n",
    "    raise NameError('Tiffany')\n",
    "except NameError as e:\n",
    "    print(\"Exception!!\")\n",
    "    "
   ]
  },
  {
   "cell_type": "markdown",
   "metadata": {},
   "source": [
    "    "
   ]
  },
  {
   "cell_type": "markdown",
   "metadata": {},
   "source": [
    "Q2. What happens if you don't do something extra to treat an exception?"
   ]
  },
  {
   "cell_type": "markdown",
   "metadata": {},
   "source": [
    "Whenever an exception occurs, the program stops the execution, and thus the further code is not executed. Therefore, an exception is the run-time errors that are unable to handle to Python script. An exception is a Python object that represents an error."
   ]
  },
  {
   "cell_type": "markdown",
   "metadata": {},
   "source": [
    "  "
   ]
  },
  {
   "cell_type": "markdown",
   "metadata": {},
   "source": [
    "Q3. What are your options for recovering from an exception in your script?"
   ]
  },
  {
   "cell_type": "markdown",
   "metadata": {},
   "source": [
    "In except block, we write a code to handle exception and next set of actions."
   ]
  },
  {
   "cell_type": "code",
   "execution_count": 9,
   "metadata": {},
   "outputs": [
    {
     "name": "stdout",
     "output_type": "stream",
     "text": [
      "NameError Occurred and Handled\n"
     ]
    }
   ],
   "source": [
    "def fun(a):\n",
    "    if a < 4:\n",
    " \n",
    "        # throws ZeroDivisionError for a = 3\n",
    "        b = a/(a-3)\n",
    " \n",
    "    # throws NameError if a >= 4\n",
    "    print(\"Value of b = \", b)\n",
    "     \n",
    "try:\n",
    "    fun(6)\n",
    "    fun(3)\n",
    " \n",
    "# note that braces () are necessary here for\n",
    "# multiple exceptions\n",
    "except ZeroDivisionError:\n",
    "    print(\"ZeroDivisionError Occurred and Handled\")\n",
    "except NameError:\n",
    "    print(\"NameError Occurred and Handled\")"
   ]
  },
  {
   "cell_type": "markdown",
   "metadata": {},
   "source": [
    "Q4. Describe two methods for triggering exceptions in your script."
   ]
  },
  {
   "cell_type": "markdown",
   "metadata": {},
   "source": [
    "Two methods for triggering exceptions in your script are:\n",
    "\n",
    "Try statement – This method throws the exceptions when the code within try is executed.\n",
    "\n",
    "Raise – Triggers an exception manually using custom exceptions.\n",
    "\n",
    "Examples are already explained above."
   ]
  },
  {
   "cell_type": "markdown",
   "metadata": {},
   "source": [
    " "
   ]
  },
  {
   "cell_type": "markdown",
   "metadata": {},
   "source": [
    "Q5. Identify two methods for specifying actions to be executed at termination time, regardless of whether or not an exception exists."
   ]
  },
  {
   "cell_type": "markdown",
   "metadata": {},
   "source": [
    "In else block, code is written to handle if no exception is raised by code in try block.\n",
    "\n",
    "In finally block, code executes regardless of whether or not an exception exists."
   ]
  }
 ],
 "metadata": {
  "kernelspec": {
   "display_name": "Python 3",
   "language": "python",
   "name": "python3"
  },
  "language_info": {
   "codemirror_mode": {
    "name": "ipython",
    "version": 3
   },
   "file_extension": ".py",
   "mimetype": "text/x-python",
   "name": "python",
   "nbconvert_exporter": "python",
   "pygments_lexer": "ipython3",
   "version": "3.8.5"
  }
 },
 "nbformat": 4,
 "nbformat_minor": 4
}
