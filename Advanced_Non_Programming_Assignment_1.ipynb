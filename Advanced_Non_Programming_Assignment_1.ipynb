{
 "cells": [
  {
   "cell_type": "markdown",
   "metadata": {},
   "source": [
    "# Advanced Non Programming Assignment 1"
   ]
  },
  {
   "cell_type": "markdown",
   "metadata": {},
   "source": [
    "Q1. What is the purpose of Python's OOP?"
   ]
  },
  {
   "cell_type": "markdown",
   "metadata": {},
   "source": [
    "The purpose of the Python's OOP is to make code more consice and legible. Object-Oriented programming allows reuse of code by implementing abstraction and polymorphism.\n",
    "\n",
    "Object-oriented programming (OOP) is a method of structuring a program by bundling related properties and behaviors into individual objects. \n",
    "\n",
    "An object in Python is a single collection of data (attributes) and behavior (methods). \n",
    "Eg: Calculator\n",
    "Data being number\n",
    "Behaviour being the operations(Like - add,division,etc.)"
   ]
  },
  {
   "cell_type": "code",
   "execution_count": 7,
   "metadata": {},
   "outputs": [],
   "source": [
    "class Song:\n",
    "    def __init__(self,name,singer,genre,release_year):\n",
    "        self.name=name\n",
    "        self.singer=singer\n",
    "        self.genre=genre\n",
    "        self.release_year=release_year\n",
    "    def song_sung(self):\n",
    "        return f'{self.name} was sung by {self.singer}'\n",
    "    def yearofrelease(self,current_year):\n",
    "        self.current_year=current_year-self.release_year\n",
    "        return f'{self.current_year} year back {self.name} had released.'"
   ]
  },
  {
   "cell_type": "code",
   "execution_count": 8,
   "metadata": {},
   "outputs": [],
   "source": [
    "sg=Song('Cardigan','Taylor','Country',2020)"
   ]
  },
  {
   "cell_type": "code",
   "execution_count": 10,
   "metadata": {},
   "outputs": [
    {
     "data": {
      "text/plain": [
       "'Cardigan was sung by Taylor'"
      ]
     },
     "execution_count": 10,
     "metadata": {},
     "output_type": "execute_result"
    }
   ],
   "source": [
    "sg.song_sung()"
   ]
  },
  {
   "cell_type": "code",
   "execution_count": 9,
   "metadata": {},
   "outputs": [
    {
     "data": {
      "text/plain": [
       "'1 year back Cardigan had released.'"
      ]
     },
     "execution_count": 9,
     "metadata": {},
     "output_type": "execute_result"
    }
   ],
   "source": [
    "sg.yearofrelease(2021)"
   ]
  },
  {
   "cell_type": "markdown",
   "metadata": {},
   "source": [
    "Q2. Where does an inheritance search look for an attribute?"
   ]
  },
  {
   "cell_type": "markdown",
   "metadata": {},
   "source": [
    "Inheritance is the procedure in which one class inherits the attributes and methods of another class. \n",
    "\n",
    "Inheritance happens when an object is qualified, and involves searching an attribute definition tree (one or more namespaces). \n",
    "Every time we use an expression of the form object.attr where object is an instance or class object, Python searches the namespace tree at and above object, for the first attr it can find."
   ]
  },
  {
   "cell_type": "markdown",
   "metadata": {},
   "source": [
    "Q3. How do you distinguish between a class object and an instance object?"
   ]
  },
  {
   "cell_type": "markdown",
   "metadata": {},
   "source": [
    "Class Object:\n",
    "\n",
    "A class is a user-defined blueprint or prototype from which objects are created. Classes provide a means of bundling data and functionality together.\n",
    "Creating a new class creates a new type of object, allowing new instances of that type to be made.\n",
    "Each class instance can have attributes attached to it for maintaining its state.\n",
    "Class instances can also have methods (defined by their class) for modifying their state.\n",
    "\n",
    "An Object is an instance of a Class. A class is like a blueprint while an instance is a copy of the class with actual values. It’s not an idea anymore, it’s an actual dog, like a dog of breed pug who’s seven years old. You can have many dogs to create many different instances, but without the class as a guide, you would be lost, not knowing what information is required.\n",
    "\n",
    "An object consists of : \n",
    "\n",
    "1. State: It is represented by the attributes of an object. It also reflects the properties of an object.\n",
    "2. Behavior: It is represented by the methods of an object. It also reflects the response of an object to other objects.\n",
    "3. Identity: It gives a unique name to an object and enables one object to interact with other objects.\n",
    "\n",
    "\n",
    "Python class creates an object type (or a blueprint) which we can create instances of.\n",
    "Class like character type in a RPG Game (like a mage/ warriror).\n",
    "Class like car. The things we know about car like manufacturer, weight, colour, year, etc.\n",
    "\n",
    "\n",
    "Instance Object:\n",
    "\n",
    "Instance variables/object are for data, unique to each instance and class variables are for attributes and methods shared by all instances of the class.\n",
    "\n",
    "Instance variables/object are variables/object whose value is assigned inside a constructor or method with self whereas class variables are variables whose value is assigned in the class.\n",
    "\n",
    "Python instance is subranches of Python Class, i.e, \n",
    "        1. if class is your character type then instance is your character.  \n",
    "        2. if class is your car then instanfe will be specific car."
   ]
  },
  {
   "cell_type": "markdown",
   "metadata": {},
   "source": [
    "Q4. What makes the first argument in a class’s method function special?"
   ]
  },
  {
   "cell_type": "markdown",
   "metadata": {},
   "source": [
    "The classmethod() is an inbuilt function in Python, which returns a class method for a given function.\n",
    "\n",
    "The first parameter in the class method is the class on which you are calling the method, not (necessarily) the class that defines the method."
   ]
  },
  {
   "cell_type": "markdown",
   "metadata": {},
   "source": [
    "Q5. What is the purpose of the __init__ method?"
   ]
  },
  {
   "cell_type": "markdown",
   "metadata": {},
   "source": [
    "The purpose of the __init__() method is to initialize the class. \n",
    "It is usually responsible for populating the instance variables. Because of this, you want to have __init__() get called for all classes in the class hierarchy.\n",
    "\n",
    "The __init__() method gets called for you when you instantiate a class. However, the __init__() method in a parent class doesn't get called automatically, so it needs to be callled directly if you want to extend its functionality.\n",
    "\n",
    "Example:"
   ]
  },
  {
   "cell_type": "code",
   "execution_count": 1,
   "metadata": {},
   "outputs": [],
   "source": [
    "class A:\n",
    "\n",
    "     def __init__(self, x):\n",
    "          self.x = x\n",
    "\n",
    "class B(A):\n",
    "\n",
    "     def __init__(self, x, y):\n",
    "          A.__init__(self, x)             #Also,  super().__init__(x)\n",
    "          self.y = y        "
   ]
  },
  {
   "cell_type": "markdown",
   "metadata": {},
   "source": [
    "Q6. What is the process for creating a class instance?"
   ]
  },
  {
   "cell_type": "markdown",
   "metadata": {},
   "source": [
    "There are two special methods concerned with the class instance creation and initialization process. \n",
    "\n",
    "These are __init__() and __new__().\n",
    "\n",
    "The __init__() method is the closest to the concept of the constructor found in many object-oriented programming languages. It receives a fresh class instance together with initialization arguments and is responsible for initializing the class instance state.\n",
    "To create instances of a class, you call the class using class name and pass in whatever arguments its __init__ method accepts.\n",
    "\n",
    "\n",
    "The special method __new__() is a static method that is actually responsible for creating class instances. This __new__(cls, [,...]) method is called prior to the __init__() initialization method. Typically, the implementation of the overridden __new__() method invokes its superclass version using super().__new__() with suitable arguments and modifies the instance before returning it."
   ]
  },
  {
   "cell_type": "markdown",
   "metadata": {},
   "source": [
    "Q7. What is the process for creating a class?"
   ]
  },
  {
   "cell_type": "markdown",
   "metadata": {},
   "source": [
    "The class statement creates a new class definition. The name of the class immediately follows the keyword class followed by a colon as follows:\n",
    "\n",
    "##############################\n",
    "class ClassName:\n",
    "    'Optional class documentation string'\n",
    "class_suite\n",
    "##############################\n",
    "\n",
    "    1. The class has a documentation string, which can be accessed via ClassName.__doc__.\n",
    "    \n",
    "    2. The class_suite consists of all the component statements defining class members, data attributes and functions."
   ]
  },
  {
   "cell_type": "code",
   "execution_count": 6,
   "metadata": {},
   "outputs": [],
   "source": [
    "class Employee:\n",
    "   'Common base class for all employees'\n",
    "   empCount = 0\n",
    "   def __init__(self, name, salary):\n",
    "      self.name = name\n",
    "      self.salary = salary\n",
    "      Employee.empCount += 1\n",
    "   def displayCount(self):\n",
    "      print(\"Total Employee \",Employee.empCount)\n",
    "   def displayEmployee(self):\n",
    "      print (\"Name : \", self.name, \", Salary: \", self.salary)\n"
   ]
  },
  {
   "cell_type": "markdown",
   "metadata": {},
   "source": [
    "The variable empCount is a class variable whose value is shared among all instances of a this class. This can be accessed as Employee.empCount from inside the class or outside the class.\n",
    "\n",
    "The first method __init__ is a special method, which is called class constructor or initialization method that Python calls when you create a new instance of this class.\n",
    "\n",
    "You declare other class methods like normal functions with the exception that the first argument to each method is self. \n",
    "\n",
    "Python adds the self argument to the list for you; you do not need to include it when you call the methods."
   ]
  },
  {
   "cell_type": "markdown",
   "metadata": {},
   "source": [
    "Q8. How would you define the superclasses of a class?"
   ]
  },
  {
   "cell_type": "markdown",
   "metadata": {},
   "source": [
    "A superclass is the class from which many subclasses can be created. \n",
    "\n",
    "The subclasses inherit the characteristics of a superclass. \n",
    "\n",
    "The superclass is also known as the parent class or base class. \n",
    "\n",
    "Example: Vehicle is the Superclass and its subclasses are Car, Truck and Motorcycle."
   ]
  },
  {
   "cell_type": "code",
   "execution_count": 7,
   "metadata": {},
   "outputs": [],
   "source": [
    "class A:\n",
    "\n",
    "     def __init__(self, x):\n",
    "          self.x = x\n",
    "\n",
    "class B(A):\n",
    "\n",
    "     def __init__(self, x, y):\n",
    "          super().__init__(x)\n",
    "          self.y = y "
   ]
  },
  {
   "cell_type": "code",
   "execution_count": null,
   "metadata": {},
   "outputs": [],
   "source": []
  }
 ],
 "metadata": {
  "kernelspec": {
   "display_name": "Python 3",
   "language": "python",
   "name": "python3"
  },
  "language_info": {
   "codemirror_mode": {
    "name": "ipython",
    "version": 3
   },
   "file_extension": ".py",
   "mimetype": "text/x-python",
   "name": "python",
   "nbconvert_exporter": "python",
   "pygments_lexer": "ipython3",
   "version": "3.8.5"
  }
 },
 "nbformat": 4,
 "nbformat_minor": 4
}
