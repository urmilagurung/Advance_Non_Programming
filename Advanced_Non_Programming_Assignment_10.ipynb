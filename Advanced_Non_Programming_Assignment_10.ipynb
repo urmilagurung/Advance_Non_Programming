{
 "cells": [
  {
   "cell_type": "markdown",
   "metadata": {},
   "source": [
    "# Advanced Non Programming Assignment 10"
   ]
  },
  {
   "cell_type": "markdown",
   "metadata": {},
   "source": [
    "Q1. What is the difference between __getattr__ and __getattribute__?"
   ]
  },
  {
   "cell_type": "markdown",
   "metadata": {},
   "source": [
    "Normally, if we want to access the attribute of a class, we access it with instance of the class like instance.attribute_name. \n",
    "\n",
    "These attributes are already present in the class. Where as, to access the attribute of class which are not defined in the class, we use getattr() method. But if the attribute does exist, getattr won’t be invoked.\n",
    "\n",
    "Use of getattr can also tell a class how to deal with attributes which it doesn't explicitly manage and do that via getattr method. Python will call this method whenever you request an attribute that hasn't already been defined, so you can define what to do with it.\n",
    "\n",
    "getattr: Is executed as the last resource when attribute is not found in an object. You can choose to return a default value or to raise AttributeError.\n",
    "\n",
    "Example:\n"
   ]
  },
  {
   "cell_type": "code",
   "execution_count": 3,
   "metadata": {},
   "outputs": [
    {
     "name": "stdout",
     "output_type": "stream",
     "text": [
      "Mumbai\n",
      "xyz\n"
     ]
    }
   ],
   "source": [
    "class Sample:\n",
    "    def __init__(self,address):\n",
    "        self.address = address\n",
    "    \n",
    "    def __getattr__(self,name):\n",
    "        return name.lower()\n",
    "    \n",
    "s =Sample('Mumbai')\n",
    "print(s.address) # existing attribute\n",
    "print(s.XYZ) # XYZ is non defined in class"
   ]
  },
  {
   "cell_type": "markdown",
   "metadata": {},
   "source": [
    "getattribute will look for every attribute, doesn’t matter if the attribute exists or not.\n",
    "\n",
    "Example:"
   ]
  },
  {
   "cell_type": "code",
   "execution_count": 4,
   "metadata": {},
   "outputs": [
    {
     "name": "stdout",
     "output_type": "stream",
     "text": [
      "New Value\n"
     ]
    }
   ],
   "source": [
    "class Dummy():\n",
    "\n",
    "    def __getattribute__(self, attr):\n",
    "        return 'New Value'\n",
    "\n",
    "d = Dummy()\n",
    "d.value = \"Old Value\"\n",
    "print(d.value)  # \"YOU SEE ME?\""
   ]
  },
  {
   "cell_type": "markdown",
   "metadata": {},
   "source": [
    "Q2. What is the difference between properties and descriptors?"
   ]
  },
  {
   "cell_type": "markdown",
   "metadata": {},
   "source": [
    "In descriptor, We can bind getter, setter (and deleter) functions into a separate class. We then assign an object of this class to the attribute name.\n",
    "\n",
    "Python descriptors are created to manage the attributes of different classes which use the object as reference. In descriptors we used three different methods that are getters(), setters(), and delete(). If any of those methods are defined for an object, it can be termed as a descriptor. Normally, Python uses methods like getters and setters to adjust the values on attributes without any special processing. It’s just a basic storage system. Sometimes, You might need to validate the values that are being assigned to a value. A descriptor is a mechanism behind properties, methods, static methods, class methods, and super()."
   ]
  },
  {
   "cell_type": "code",
   "execution_count": 6,
   "metadata": {},
   "outputs": [
    {
     "name": "stdout",
     "output_type": "stream",
     "text": [
      "Temperature in Celsius :  232.22222222222223\n",
      "Temperature in Farenheit :  347.0\n"
     ]
    }
   ],
   "source": [
    "#Descriptor example:\n",
    "\n",
    "class Celsius( object ):\n",
    "    def __init__( self, value=0.0 ):\n",
    "        self.value= float(value)\n",
    "    def __get__( self, instance, owner ):\n",
    "        return self.value\n",
    "    def __set__( self, instance, value ):\n",
    "        self.value= float(value)\n",
    "\n",
    "class Farenheit( object ):\n",
    "    def __get__( self, instance, owner ):\n",
    "        return instance.celsius * 9 / 5 + 32\n",
    "    def __set__( self, instance, value ):\n",
    "        instance.celsius= (float(value)-32) * 5 / 9\n",
    "\n",
    "class Temperature( object ):\n",
    "    celsius= Celsius()\n",
    "    farenheit= Farenheit()\n",
    "    \n",
    "oven= Temperature()\n",
    "\n",
    "oven.farenheit= 450\n",
    "print('Temperature in Celsius : ', oven.celsius)\n",
    "\n",
    "oven.celsius= 175\n",
    "print('Temperature in Farenheit : ', oven.farenheit)"
   ]
  },
  {
   "cell_type": "markdown",
   "metadata": {},
   "source": [
    "In Properties, We can bind getter, setter functions with an attribute name, using the built-in property function.\n",
    "\n",
    "Properties can be considered the \"Pythonic\" way of working with attributes because:\n",
    "\n",
    "The syntax used to define properties is very concise and readable. You can access instance attributes exactly as if they were public attributes while using the \"magic\" of intermediaries (getters and setters) to validate new values and to avoid accessing or modifying the data directly. By using @property, you can \"reuse\" the name of a property to avoid creating new names for the getters, setters, and deleters."
   ]
  },
  {
   "cell_type": "code",
   "execution_count": 7,
   "metadata": {},
   "outputs": [
    {
     "name": "stdout",
     "output_type": "stream",
     "text": [
      "Temperature in Celsius :  232.22222222222223\n",
      "Temperature in Farenheit :  347.0\n"
     ]
    }
   ],
   "source": [
    "#Property example:\n",
    "\n",
    "class Temperature( object ):\n",
    "    def fget( self ):\n",
    "        return self.celsius * 9 / 5 + 32\n",
    "    def fset( self, value ):\n",
    "        self.celsius= (float(value)-32) * 5 / 9\n",
    "    farenheit= property( fget, fset )\n",
    "    def cset( self, value ):\n",
    "        self.cTemp= float(value)\n",
    "    def cget( self ):\n",
    "        return self.cTemp\n",
    "    celsius= property( cget, cset, doc=\"Celsius temperature\" )\n",
    "\n",
    "\n",
    "oven= Temperature()\n",
    "\n",
    "oven.farenheit= 450\n",
    "print('Temperature in Celsius : ', oven.celsius)\n",
    "\n",
    "oven.celsius= 175\n",
    "print('Temperature in Farenheit : ', oven.farenheit)"
   ]
  },
  {
   "cell_type": "markdown",
   "metadata": {},
   "source": [
    " "
   ]
  },
  {
   "cell_type": "markdown",
   "metadata": {},
   "source": [
    "Q3. What are the key differences in functionality between __getattr__ and __getattribute__, as well as properties and descriptors?"
   ]
  },
  {
   "cell_type": "markdown",
   "metadata": {},
   "source": [
    "To access the attribute of class which are not defined in the class, we use getattr() method. But if the attribute does exist, getattr won’t be invoked. getattribute will look for every attribute, doesn’t matter if the attribute exists or not.\n",
    "\n",
    "In Properties, We can bind getter, setter functions with an attribute name, using the built-in property function. In descriptor, We can bind getter, setter (and deleter) functions into a separate class. We then assign an object of this class to the attribute name."
   ]
  },
  {
   "cell_type": "markdown",
   "metadata": {},
   "source": [
    "__getattr__\n",
    "\n",
    "getattr: Is executed as the last resource when attribute is not found in an object. You can choose to return a default value or to raise AttributeError.\n",
    "\n",
    "Python will call __getattr__ method whenever you request an attribute that hasn't already been defined. In the following example my class Count has no __getattr__ method. Now in main when I try to access both obj1.mymin and obj1.mymax attributes everything works fine. But when I try to access obj1.mycurrent attribute -- Python gives me AttributeError: 'Count' object has no attribute 'mycurrent'."
   ]
  },
  {
   "cell_type": "markdown",
   "metadata": {},
   "source": [
    "__getattribute__\n",
    "\n",
    "getattribute: Is used to retrieve an attribute from an instance. It captures every attempt to access an instance attribute by using dot notation or getattr() built-in function.\n",
    "\n",
    "Now lets see the __getattribute__ method. If you have __getattribute__ method in your class, python invokes this method for every attribute regardless whether it exists or not. So why do we need __getattribute__ method? One good reason is that you can prevent access to attributes and make them more secure as shown in the following example.\n",
    "\n",
    "Whenever someone try to access my attributes that starts with substring 'cur' python raises AttributeError exception. Otherwise it returns that attribute."
   ]
  },
  {
   "cell_type": "markdown",
   "metadata": {},
   "source": [
    "If your class contain both getattr and getattribute magic methods then __getattribute__ is called first. But if __getattribute__ raises AttributeError exception then the exception will be ignored and __getattr__ method will be invoked. "
   ]
  },
  {
   "cell_type": "markdown",
   "metadata": {},
   "source": [
    "__getattribute__ has a default implementation, but __getattr__ does not."
   ]
  },
  {
   "cell_type": "markdown",
   "metadata": {},
   "source": []
  }
 ],
 "metadata": {
  "kernelspec": {
   "display_name": "Python 3",
   "language": "python",
   "name": "python3"
  },
  "language_info": {
   "codemirror_mode": {
    "name": "ipython",
    "version": 3
   },
   "file_extension": ".py",
   "mimetype": "text/x-python",
   "name": "python",
   "nbconvert_exporter": "python",
   "pygments_lexer": "ipython3",
   "version": "3.8.5"
  }
 },
 "nbformat": 4,
 "nbformat_minor": 4
}
