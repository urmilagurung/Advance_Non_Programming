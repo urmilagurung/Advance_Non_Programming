{
 "cells": [
  {
   "cell_type": "markdown",
   "metadata": {},
   "source": [
    "# Advanced Non Programming Assignment 2"
   ]
  },
  {
   "cell_type": "markdown",
   "metadata": {},
   "source": [
    "Q1. What is the relationship between classes and modules?"
   ]
  },
  {
   "cell_type": "markdown",
   "metadata": {},
   "source": [
    "Module is a python file (.py) inside a package. Package is a folder that has __init__.py in its root. It is a way to organize your codes physically (in files and folders).\n",
    "\n",
    "On the other hand, class is an abstraction that gathers data (characteristics) and method (behavior) definitions to represent a specific type of objects. It is a way to organize your codes logically.\n",
    "\n",
    "A module can have zero or one or multiple classes. A class can be implemented in one or more .py files (modules).\n",
    "\n",
    "But often, we can organize a set of variables and functions into a class definition or just simply put them in a .py file and call it a module."
   ]
  },
  {
   "cell_type": "markdown",
   "metadata": {},
   "source": [
    "Q2. How do you make instances and classes?"
   ]
  },
  {
   "cell_type": "markdown",
   "metadata": {},
   "source": [
    "Almost everything in Python is an object, with its properties and methods.\n",
    "\n",
    "A Class is like an object constructor, or a \"blueprint\" for creating objects.\n",
    "To create a class, use the keyword class:\n",
    "\n",
    "Example:\n",
    "\n",
    "We create a class named Student and create an instance of this class, Student1.\n",
    "\n",
    "------------------------------------------------------------------------------\n",
    "\n",
    "class Student:\n",
    "    def __init__(self, name, age):\n",
    "        self.name = name\n",
    "        self.age = age\n",
    "\n",
    "\n",
    "Student1= Student('Hella',24)\n",
    "\n",
    "------------------------------------------------------------------------------\n",
    "\n",
    "Therfore, Student1 is an instance, or object, of the Student class.\n",
    "\n",
    "So, all we have to do to create a new instance of a class in Python is choose a name for the object and set it equal to the class name (that you created) followed by ().\n",
    "\n",
    "When referencing a class in Python, it should always be the class name with parenthesis ()."
   ]
  },
  {
   "cell_type": "markdown",
   "metadata": {},
   "source": [
    "Q3. Where and how should be class attributes created?"
   ]
  },
  {
   "cell_type": "markdown",
   "metadata": {},
   "source": [
    "A class attribute is a Python Variable that belongs to a class rather than a particular object. This is shared between all other objects of the same class and is defined outside the constructor function __init__(self,…), of the class.\n",
    "\n",
    "A Class, in Object Oriented Programming, can have attributes (sometimes called variables or properties). Objects created from a class have all of the classes variables. But their value is set not in the class but in the objects themself.\n",
    "\n",
    "\n",
    "Create a class named product:\n",
    "\n",
    "--------------------------------\n",
    "class Product:\n",
    "\n",
    "    name = ''\n",
    "    ingredients = []\n",
    "\n",
    "--------------------------------\n",
    "\n",
    "Create an object (an instance). On the instance you can set the objects variables. You assign attribute values by using the dot (.) between the objects name and the variable, followed by the equality sign and the value.\n",
    "\n",
    "pancake = Product()\n",
    "pancake.name = 'Pancake'\n",
    "pancake.ingredients = [ 'Milk','Sugar' ]\n",
    "\n",
    "You can create multiple objects from a class. Each object has unique values for the variables.\n",
    "\n",
    "These values are unique to the object, meaning if you create another object it’s\n",
    "values won’t be the same. A value can be a number (int, float), a string or even a list (you can assign a set of values to the list).\n",
    "\n",
    "cookies = Product()\n",
    "cookies.name = 'Cookies'\n",
    "cookies.ingredients = [ 'Sugar' ]\n",
    "\n",
    "A class is created with some variables. By using the class, two objects are created. Each object can have different properties (atributes).\n",
    "\n",
    "A class attribute is an attribute that belongs to the class itself. It is shared by all the instances of that class, it will have the same value for any instance."
   ]
  },
  {
   "cell_type": "code",
   "execution_count": 2,
   "metadata": {},
   "outputs": [
    {
     "name": "stdout",
     "output_type": "stream",
     "text": [
      "I am a class attribute\n",
      "I am a class attribute\n",
      "I am a class attribute\n"
     ]
    }
   ],
   "source": [
    "class Person:\n",
    "    class_attr = \"I am a class attribute\"\n",
    "    \n",
    "person_1 = Person()\n",
    "person_2 = Person()\n",
    "print(Person.class_attr)\n",
    "print(person_1.class_attr)\n",
    "print(person_2.class_attr)"
   ]
  },
  {
   "cell_type": "markdown",
   "metadata": {},
   "source": [
    "Yes, all three print statements print the same thing because both the instances of Person and Person itself have the class attribute class_attr.\n",
    "\n",
    "We created class attributes by declaring them and assigning a value to them inside the class, outside of the methods of that class. It’s traditionally done at the top of the class, before anything else."
   ]
  },
  {
   "cell_type": "markdown",
   "metadata": {},
   "source": [
    "Q4. Where and how are instance attributes created?"
   ]
  },
  {
   "cell_type": "markdown",
   "metadata": {},
   "source": [
    "In OOP, the data is organized and regrouped in objects (or classes in the case of Python), which contain fields, also called attributes, as well as methods, which are similar to functions. \n",
    "\n",
    "An instance attribute is a Python variable belonging to only one object. It is only accessible in the scope of the object and it is defined inside the constructor function of a class. For example, __init__(self,..).\n",
    "\n",
    "An instance attribute is an attribute that belongs to one instance of a class and is accessible only in the scope of that instance. "
   ]
  },
  {
   "cell_type": "code",
   "execution_count": 4,
   "metadata": {},
   "outputs": [
    {
     "name": "stdout",
     "output_type": "stream",
     "text": [
      "I am a new class attribute of the Person class\n",
      "I am an instance attribute belonging to person_1\n"
     ]
    }
   ],
   "source": [
    "class Person:\n",
    "    class_attr = \"I am a class attribute\"\n",
    "    \n",
    "    \n",
    "person_1 = Person()\n",
    "person_1.class_attr = \"I am an instance attribute belonging to person_1\"\n",
    "Person.class_attr = \"I am a new class attribute of the Person class\"\n",
    "\n",
    "print(Person.class_attr)\n",
    "print(person_1.class_attr)"
   ]
  },
  {
   "cell_type": "markdown",
   "metadata": {},
   "source": [
    "Here we changed the class attribute class_attr, so we would think that printing the same attribute of an instance of the same class would print this changed string, but actually, person_1 is still the instance we created before changing the class attribute, so its class_attr is an instance attribute only accessible to person_1.\n",
    "\n",
    "We created instance attributes by just declaring them and assigning a value to them outside of the class. There is another way to do it, which uses the __init__ method. It’s a constructor method that is automatically called after an instance of a class has been created. It’s usually the first method defined inside a class. This is a more pythonic way to do it."
   ]
  },
  {
   "cell_type": "markdown",
   "metadata": {},
   "source": [
    "########The Differences Between Class and Instance Attributes#########\n",
    "\n",
    "The difference is that class attributes is shared by all instances. When you change the value of a class attribute, it will affect all instances that share the same exact value. The attribute of an instance on the other hand is unique to that instance.\n",
    "\n",
    "\n",
    "Class attributes are accessible to all instances of the class, where instance attributes are accessible only to that particular instance of the class. We can access a class attribute via an instance or the class name, whereas an instance attribute can only be accessed via the instance to which it belongs."
   ]
  },
  {
   "cell_type": "markdown",
   "metadata": {},
   "source": [
    "Q5. What does the term \"self\" in a Python class mean?"
   ]
  },
  {
   "cell_type": "markdown",
   "metadata": {},
   "source": [
    "The self parameter is a reference to the current instance of the class, and is used to access variables that belongs to the class.\n",
    "\n",
    "Self represents the instance of the class. By using the “self” keyword we can access the attributes and methods of the class in python.\n",
    "It binds the attributes with the given arguments.\n",
    "The reason you need to use self is because Python does not use the @ syntax to refer to instance attributes. \n",
    "Python decided to do methods in a way that makes the instance to which the method belongs be passed automatically, but not received automatically: the first parameter of methods is the instance the method is called on.\n",
    "\n",
    "\n",
    "Charactersitic of SELF:\n",
    "\n",
    "Self is always pointing to Current Object.\n",
    "\n",
    "Self is the first argument to be passed in Constructor and Instance Method.\n",
    "\n",
    "Self is a convention and not a Python keyword."
   ]
  },
  {
   "cell_type": "markdown",
   "metadata": {},
   "source": [
    "Q6. How does a Python class handle operator overloading?"
   ]
  },
  {
   "cell_type": "markdown",
   "metadata": {},
   "source": [
    "Consider that we have two objects which are a physical representation of a class (user-defined data type) and we have to add two objects with binary ‘+’ operator it throws an error, because compiler don’t know how to add two objects. So we define a method for an operator and that process is called operator overloading. We can overload all existing operators but we can’t create a new operator. To perform operator overloading, Python provides some special function or magic function that is automatically invoked when it is associated with that particular operator. For example, when we use + operator, the magic method __add__ is automatically invoked in which the operation for + operator is defined."
   ]
  },
  {
   "cell_type": "markdown",
   "metadata": {},
   "source": [
    "Operator overloading is the process of using an operator in different ways depending on the operands. You can change the way an operator in Python works on different data-types.\n",
    "\n",
    "Eg:\n",
    "\n",
    "A very popular and convenient example is the Addition (+) operator.\n",
    "\n",
    "Just think how the ‘+’ operator operates on two numbers and the same operator operates on two strings. It performs “Addition” on numbers whereas it performs “Concatenation” on strings.\n",
    "\n",
    "Python class handles operater overloading as follow:\n",
    "\n",
    "Overloading + operator"
   ]
  },
  {
   "cell_type": "code",
   "execution_count": 6,
   "metadata": {},
   "outputs": [
    {
     "name": "stdout",
     "output_type": "stream",
     "text": [
      "Addition of Complex Numbers =  (7+7j)\n"
     ]
    }
   ],
   "source": [
    "class Complex:\n",
    "    # Defining init method for class\n",
    "    def __init__(self, r, i):\n",
    "        self.real = r\n",
    "        self.img = i\n",
    "\n",
    "    # Overloading the add operator using special function\n",
    "    def __add__(self, sec):\n",
    "        r = self.real + sec.real\n",
    "        i = self.img + sec.img\n",
    "        return complex(r,i)\n",
    "\n",
    "    # String function to print object of Complex class\n",
    "    def __str__(self):\n",
    "        return str(self.real)+' + '+str(self.img)+'i'\n",
    "\n",
    "c1 = Complex(5,3)\n",
    "c2 = Complex(2,4)\n",
    "print(\"Addition of Complex Numbers = \",c1+c2)"
   ]
  },
  {
   "cell_type": "markdown",
   "metadata": {},
   "source": [
    "In the program above, __add__() is used to overload the + operator i.e. when + operator is used with two Complex class objects then the function __add__() is called.\n",
    "\n",
    "__str__() is another special function which is used to provide a format of the object that is suitable for printing."
   ]
  },
  {
   "cell_type": "markdown",
   "metadata": {},
   "source": [
    "Q7. When do you consider allowing operator overloading of your classes?"
   ]
  },
  {
   "cell_type": "markdown",
   "metadata": {},
   "source": [
    "Python operators work for built-in classes. But the same operator behaves differently with different types. For example, the + operator will perform arithmetic addition on two numbers, merge two lists, or concatenate two strings.\n",
    "\n",
    "This feature in Python that allows the same operator to have different meaning according to the context is called operator overloading.\n",
    "\n",
    "So what happens when we use them with objects of a user-defined class? Let us consider the following class, which tries to simulate a point in 2-D coordinate system."
   ]
  },
  {
   "cell_type": "code",
   "execution_count": 7,
   "metadata": {},
   "outputs": [
    {
     "ename": "TypeError",
     "evalue": "unsupported operand type(s) for +: 'Point' and 'Point'",
     "output_type": "error",
     "traceback": [
      "\u001b[1;31m---------------------------------------------------------------------------\u001b[0m",
      "\u001b[1;31mTypeError\u001b[0m                                 Traceback (most recent call last)",
      "\u001b[1;32m<ipython-input-7-117bb3bdfa23>\u001b[0m in \u001b[0;36m<module>\u001b[1;34m\u001b[0m\n\u001b[0;32m      7\u001b[0m \u001b[0mp1\u001b[0m \u001b[1;33m=\u001b[0m \u001b[0mPoint\u001b[0m\u001b[1;33m(\u001b[0m\u001b[1;36m1\u001b[0m\u001b[1;33m,\u001b[0m \u001b[1;36m2\u001b[0m\u001b[1;33m)\u001b[0m\u001b[1;33m\u001b[0m\u001b[1;33m\u001b[0m\u001b[0m\n\u001b[0;32m      8\u001b[0m \u001b[0mp2\u001b[0m \u001b[1;33m=\u001b[0m \u001b[0mPoint\u001b[0m\u001b[1;33m(\u001b[0m\u001b[1;36m2\u001b[0m\u001b[1;33m,\u001b[0m \u001b[1;36m3\u001b[0m\u001b[1;33m)\u001b[0m\u001b[1;33m\u001b[0m\u001b[1;33m\u001b[0m\u001b[0m\n\u001b[1;32m----> 9\u001b[1;33m \u001b[0mprint\u001b[0m\u001b[1;33m(\u001b[0m\u001b[0mp1\u001b[0m\u001b[1;33m+\u001b[0m\u001b[0mp2\u001b[0m\u001b[1;33m)\u001b[0m\u001b[1;33m\u001b[0m\u001b[1;33m\u001b[0m\u001b[0m\n\u001b[0m",
      "\u001b[1;31mTypeError\u001b[0m: unsupported operand type(s) for +: 'Point' and 'Point'"
     ]
    }
   ],
   "source": [
    "class Point:\n",
    "    def __init__(self, x=0, y=0):\n",
    "        self.x = x\n",
    "        self.y = y\n",
    "\n",
    "\n",
    "p1 = Point(1, 2)\n",
    "p2 = Point(2, 3)\n",
    "print(p1+p2)"
   ]
  },
  {
   "cell_type": "markdown",
   "metadata": {},
   "source": [
    "Here, we can see that a TypeError was raised, since Python didn't know how to add two Point objects together.\n",
    "\n",
    "However, we can achieve this task in Python through operator overloading."
   ]
  },
  {
   "cell_type": "markdown",
   "metadata": {},
   "source": [
    "Q8. What is the most popular form of operator overloading?"
   ]
  },
  {
   "cell_type": "markdown",
   "metadata": {},
   "source": [
    "1. Plus Operator Overloaded\n",
    "\n",
    "This involves an extended interpretation of an operator more than its original purpose. The most frequent instance is the adding up operator ‘+’, where it can be used for the usual addition and also for combining two different strings. As mentioned on top, the plus symbol’s practice in dissimilar forms is the largest classic example of the operator level overloading process. Especially the ability of the binary operator to perform the process of concatenation on the pair of the string is especially special.\n",
    "\n",
    "\n",
    "2. Multiplication Operator Overloaded\n",
    "\n",
    "Another similar example of a binary operator involved in the overloading process can be noticed in the usage of ‘ * ‘. This operator not only responsible for multiplying two given numbers but also has the capability to perform the repetition of strings and lists.\n",
    "\n",
    "\n",
    "3. Greater than and Less than Operator Overloaded\n",
    "\n",
    "Even the comparison operators like > and < exhibit very similar operator overloading outcomes. They display a great difference in handling usual numbers and strings.\n",
    "\n",
    "\n",
    "4. Equal to Operator Overloaded\n",
    "\n",
    "The equal operator (==) is used for comparing two different lists."
   ]
  },
  {
   "cell_type": "markdown",
   "metadata": {},
   "source": [
    "Q9. What are the two most important concepts to grasp in order to comprehend Python OOP code?"
   ]
  },
  {
   "cell_type": "markdown",
   "metadata": {},
   "source": [
    "Encapsulation, Inheritance and Polymorphism, and object association are most important concepts.\n",
    "\n",
    "1. Encapsulation\n",
    "The word, “encapsulate,” means to enclose something. Just like a pill \"encapsulates\" or contains the medication inside of its coating, the principle of encapsulation works in a similar way in OOP: by forming a protective barrier around the information contained within a class from the rest of the code.\n",
    "In OOP, we encapsulate by binding the data and functions which operate on that data into a single unit, the class. By doing so, we can hide private details of a class from the outside world and only expose functionality that is important for interfacing with it. When a class does not allow calling code access to its private data directly, we say that it is well encapsulated.\n",
    "\n",
    "Example: Elaborating on the person class example from earlier, we might have private data in the class, such as \"socialSecurityNumber,\" that should not be exposed to other objects in the program. By encapsulating this data member as a private variable in the class, outside code would not have direct access to it, and it would remain safe within that person’s object.\n",
    "\n",
    "If a method is written in the person class to perform, say, a bank transaction called \"bankTransaction(),\" that function could then access the \"socialSecurityNumber\" variable as necessary. The person’s private data would be well encapsulated in such a class.\n",
    "\n",
    "\n",
    "2. Polymorphism\n",
    "\n",
    "In OOP, polymorphism allows for the uniform treatment of classes in a hierarchy. Therefore, calling code only needs to be written to handle objects from the root of the hierarchy, and any object instantiated by any child class in the hierarchy will be handled in the same way.\n",
    "\n",
    "Because derived objects share the same interface as their parents, the calling code can call any function in that class’ interface. At run-time, the appropriate function will be called depending on the type of object passed leading to possibly different behaviors.\n",
    "\n",
    "Example: Suppose we have a class called, “Animal” and two child classes, “Cat,” and “Dog.” If the Animal class has a method to make a noise, called, “makeNoise,” then, we can override the \"makeNoise\" function that is inherited by the sub-classes, \"Cat\" and \"Dog,\" to be “meow” and “bark,” respectively. Another function can, then, be written that accepts any Animal object as a parameter and invokes its \"makeNoise\" member function. The noise will be different: either a “meow” or a “bark” depending on the type of animal object that was actually passed to the function."
   ]
  }
 ],
 "metadata": {
  "kernelspec": {
   "display_name": "Python 3",
   "language": "python",
   "name": "python3"
  },
  "language_info": {
   "codemirror_mode": {
    "name": "ipython",
    "version": 3
   },
   "file_extension": ".py",
   "mimetype": "text/x-python",
   "name": "python",
   "nbconvert_exporter": "python",
   "pygments_lexer": "ipython3",
   "version": "3.8.5"
  }
 },
 "nbformat": 4,
 "nbformat_minor": 4
}
