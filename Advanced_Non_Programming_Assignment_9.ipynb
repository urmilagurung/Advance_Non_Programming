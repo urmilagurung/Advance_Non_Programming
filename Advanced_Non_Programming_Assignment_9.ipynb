{
 "cells": [
  {
   "cell_type": "markdown",
   "metadata": {},
   "source": [
    "# Advanced Non Programming Assignment 9"
   ]
  },
  {
   "cell_type": "markdown",
   "metadata": {},
   "source": [
    "Q1. In Python 3.X, what are the names and functions of string object types?"
   ]
  },
  {
   "cell_type": "markdown",
   "metadata": {},
   "source": [
    "In Python 3.X and later, String objects has bulit in class named as \"str\" and it is used to store characters in memory in encoded format.\n",
    "\n",
    "Below are the names and functions of string object types:\n",
    "\n",
    "maketrans() --------Returns a translation table to be used in translations\n",
    "\n",
    "partition() ----------Returns a tuple where the string is parted into three parts\n",
    "\n",
    "replace() ---------Returns a string where a specified value is replaced with a specified value\n",
    "\n",
    "rfind() --------Searches the string for a specified value and returns the last position of where it was found\n",
    "\n",
    "rindex() ---------Searches the string for a specified value and returns the last position of where it was found\n",
    "\n",
    "rjust() -------Returns a right justified version of the string\n",
    "\n",
    "rpartition() -------Returns a tuple where the string is parted into three parts\n",
    "\n",
    "rsplit() ----------Splits the string at the specified separator, and returns a list\n",
    "\n",
    "rstrip() --------Returns a right trim version of the string\n",
    "\n",
    "split() --------Splits the string at the specified separator, and returns a list\n",
    "\n",
    "splitlines() -----------Splits the string at line breaks and returns a list\n",
    "\n",
    "startswith() --------Returns true if the string starts with the specified value\n",
    "\n",
    "strip() -------Returns a trimmed version of the string\n",
    "\n",
    "swapcase() -------Swaps cases, lower case becomes upper case and vice versa\n",
    "\n",
    "title() ----------Converts the first character of each word to upper case\n",
    "\n",
    "translate() --------Returns a translated string\n",
    "\n",
    "upper() ---------Converts a string into upper case\n",
    "\n",
    "zfill() --------Fills the string with a specified number of 0 values at the beginning\n",
    "\n",
    "format_map() ---------Formats specified values in a string\n",
    "\n",
    "index() ----------Searches the string for a specified value and returns the position of where it was found\n",
    "\n",
    "isalnum() -----------Returns True if all characters in the string are alphanumeric\n",
    "\n",
    "isalpha() --------Returns True if all characters in the string are in the alphabet\n",
    "\n",
    "isascii() -------Returns True if all characters in the string are ascii characters\n",
    "\n",
    "isdecimal() -------Returns True if all characters in the string are decimals\n",
    "\n",
    "isdigit() ----------Returns True if all characters in the string are digits\n",
    "\n",
    "isidentifier() --------Returns True if the string is an identifier\n",
    "\n",
    "islower() --------Returns True if all characters in the string are lower case\n",
    "\n",
    "isnumeric() -------Returns True if all characters in the string are numeric\n",
    "\n",
    "isprintable() ------Returns True if all characters in the string are printable\n",
    "\n",
    "isspace() -----Returns True if all characters in the string are whitespaces\n",
    "\n",
    "istitle() --------Returns True if the string follows the rules of a title\n",
    "\n",
    "isupper() ------Returns True if all characters in the string are upper case\n",
    "\n",
    "join() --------Converts the elements of an iterable into a string\n",
    "\n",
    "ljust() ----------Returns a left justified version of the string\n",
    "\n",
    "lower() -------Converts a string into lower case\n",
    "\n",
    "lstrip() --------Returns a left trim version of the string\n",
    "\n",
    "Method ---------------Description\n",
    "\n",
    "capitalize() -----------Converts the first character to upper case\n",
    "\n",
    "casefold() -----------Converts string into lower case\n",
    "\n",
    "center() ------------Returns a centered string\n",
    "\n",
    "count() --------------Returns the number of times a specified value occurs in a string\n",
    "\n",
    "encode() -----------Returns an encoded version of the string\n",
    "\n",
    "endswith() -------------Returns true if the string ends with the specified value\n",
    "\n",
    "expandtabs() ----------Sets the tab size of the string\n",
    "\n",
    "find() ----------Searches the string for a specified value and returns the position of where it was found\n",
    "\n",
    "format() ----------Formats specified values in a string\n"
   ]
  },
  {
   "cell_type": "markdown",
   "metadata": {},
   "source": [
    "All string methods returns new values. They do not change the original string."
   ]
  },
  {
   "cell_type": "markdown",
   "metadata": {},
   "source": [
    " "
   ]
  },
  {
   "cell_type": "markdown",
   "metadata": {},
   "source": [
    "Q2. How do the string forms in Python 3.X vary in terms of operations?"
   ]
  },
  {
   "cell_type": "markdown",
   "metadata": {},
   "source": [
    "Python supports ASCII as a subset of Unicode. The default encoding of characters in Python is UTF-8 (Unicode Transformation Format - 8-bit).ASCII is really a 7-bit character set; it is mapped to 8-bit bytes by setting the high bit to zero. Thus, ASCII characters are unchanged in UTF-8. A non-zero high bit indicates that a character composed of multiple bytes."
   ]
  },
  {
   "cell_type": "code",
   "execution_count": 1,
   "metadata": {},
   "outputs": [
    {
     "name": "stdout",
     "output_type": "stream",
     "text": [
      "110\n"
     ]
    }
   ],
   "source": [
    "u = 'ineuron'\n",
    "print(ord(u[-1]))"
   ]
  },
  {
   "cell_type": "markdown",
   "metadata": {},
   "source": [
    "  "
   ]
  },
  {
   "cell_type": "markdown",
   "metadata": {},
   "source": [
    "Q3. In 3.X, how do you put non-ASCII Unicode characters in a string?"
   ]
  },
  {
   "cell_type": "markdown",
   "metadata": {},
   "source": [
    "Non-ASCII domains are called Internationalized Domain Names (IDNs). ... They are not confined to strictly ASCII characters. Examples of Non-ASCII Characters. Examples of non-ascii characters used in international domain extensions."
   ]
  },
  {
   "cell_type": "markdown",
   "metadata": {},
   "source": [
    "As we know, there are only 127 ASCII characters in ascii table. It stores symbols, letters, whitespace characters, non printable characters, which are very less. So Python 3 has adopted unicode encoding of strings. for non ASCII u can get any value more than 127."
   ]
  },
  {
   "cell_type": "code",
   "execution_count": 5,
   "metadata": {},
   "outputs": [
    {
     "name": "stdout",
     "output_type": "stream",
     "text": [
      "Bangalore ©\n"
     ]
    }
   ],
   "source": [
    "s = 'Bangalore '\n",
    "\n",
    "s += chr(169) + chr(128)\n",
    "print(s)"
   ]
  },
  {
   "cell_type": "markdown",
   "metadata": {},
   "source": [
    "   "
   ]
  },
  {
   "cell_type": "markdown",
   "metadata": {},
   "source": [
    "Q4. In Python 3.X, what are the key differences between text-mode and binary-mode files?"
   ]
  },
  {
   "cell_type": "markdown",
   "metadata": {},
   "source": [
    "The major difference between these two is that :\n",
    "\n",
    "A text file contains textual information in the form of alphabets, digits and special characters or symbols. \n",
    "\n",
    "A binary file contains bytes or a compiled version of a text file."
   ]
  },
  {
   "cell_type": "markdown",
   "metadata": {},
   "source": [
    "Files opened in binary mode (appending 'b' to the mode argument) return contents as bytes objects without any decoding. \n",
    "\n",
    "In text mode (the default, or when 't' is appended to the mode argument), the contents of the file are returned as strings, the bytes having been first decoded using a platform-dependent encoding or using the specified encoding if given."
   ]
  },
  {
   "cell_type": "markdown",
   "metadata": {},
   "source": [
    " "
   ]
  },
  {
   "cell_type": "markdown",
   "metadata": {},
   "source": [
    "Q5. How can you interpret a Unicode text file containing text encoded in a different encoding than your platform's default?"
   ]
  },
  {
   "cell_type": "markdown",
   "metadata": {},
   "source": [
    "While reading file, we can specify the encoding such as(utf16, utf32), so the file will be decoded according to that encoding and results are returned to the user.\n",
    "\n",
    "To process text effectively in Python 3, it is necessary to learn at least a tiny amount about Unicode and text encodings:\n",
    "\n",
    "1. Python 3 always stores text strings as sequences of Unicode code points. These are values in the range 0-0x10FFFF. They don’t always correspond directly to the characters you read on your screen, but that distinction doesn’t matter for most text manipulation tasks.\n",
    "\n",
    "2. The process of converting from a sequence of bytes (i.e. binary data) to a sequence of code points (i.e. text data) is decoding, while the reverse process is encoding.\n",
    "\n",
    "3. To store text as binary data, you must specify an encoding for that text.\n",
    "\n",
    "4. For historical reasons, the most widely used encoding is ascii, which can only handle Unicode code points in the range 0-0x7F (i.e. ASCII is a 7-bit encoding).\n",
    "\n",
    "5. There are a wide variety of ASCII compatible encodings, which ensure that any appearance of a valid ASCII value in the binary data refers to the corresponding ASCII character.\n",
    "\n",
    "6. “utf-8” is becoming the preferred encoding for many applications, as it is an ASCII-compatible encoding that can encode any valid Unicode code point.\n",
    "\n",
    "7. “latin-1” is another significant ASCII-compatible encoding, as it maps byte values directly to the first 256 Unicode code points. (Note that Windows has it’s own “latin-1” variant called cp1252, but, unlike the ISO “latin-1” implemented by the Python codec with that name, the Windows specific variant doesn’t map all 256 possible byte values)\n",
    "\n",
    "8. There are also many ASCII incompatible encodings in widespread use, particularly in Asian countries (which had to devise their own solutions before the rise of Unicode) and on platforms such as Windows, Java and the .NET CLR, where many APIs accept text as UTF-16 encoded data.\n",
    "\n",
    "9. The locale.getpreferredencoding() call reports the encoding that Python will use by default for most operations that require an encoding (e.g. reading in a text file without a specified encoding). This is designed to aid interoperability between Python and the host operating system, but can cause problems with interoperability between systems (if encoding issues are not managed consistently).\n",
    "\n",
    "10. If you’re a native English speaker residing in an English speaking country (like me!) it’s tempting to think “but Python 2 works fine, why are you bothering me with all this Unicode malarkey?”. It’s worth trying to remember that we’re actually a minority on this planet and, for most people on Earth, ASCII and latin-1 can’t even handle their name, let alone any other text they might want to write or process in their native language.\n",
    "\n",
    "\n",
    "11. The sys.getfilesystemencoding() call reports the encoding that Python will use by default for most operations that both require an encoding and involve textual metadata in the filesystem (e.g. determining the results of os.listdir())\n",
    "\n"
   ]
  },
  {
   "cell_type": "markdown",
   "metadata": {},
   "source": [
    "Q6. What is the best way to make a Unicode text file in a particular encoding format?"
   ]
  },
  {
   "cell_type": "markdown",
   "metadata": {},
   "source": [
    "\n",
    "Writing unicode to a text file adds a line or multiple lines of unicode text to the file. UTF-8 is the most common unicode character encoding.\n",
    "\n",
    "Call str.encode(encoding) with encoding set to \"utf8\" to encode str. Call open(file, mode) to open a file with mode set to \"wb\" . \"wb\" writes to files in binary mode and preserves UTF-8 format. Call file.write(data) to write data to the file."
   ]
  },
  {
   "cell_type": "code",
   "execution_count": 9,
   "metadata": {},
   "outputs": [
    {
     "name": "stdout",
     "output_type": "stream",
     "text": [
      "É§Ä± á¿³É›Æ–ÆˆÆ¡É±É› É¬Æ¡ Å³Å‹Ä±ÆˆÆ¡É–É›-ÆˆÆ¡Å‹Û·É›à½žÉ¬É›à½ž.\n"
     ]
    }
   ],
   "source": [
    "unicode_text = u'ɧı ῳɛƖƈơɱɛ ɬơ ųŋıƈơɖɛ-ƈơŋ۷ɛཞɬɛཞ.'\n",
    "encoded_unicode = unicode_text.encode(\"utf8\")\n",
    "\n",
    "a_file = open(\"textfile.txt\", \"wb\")\n",
    "a_file.write(encoded_unicode)\n",
    "\n",
    "a_file = open(\"textfile.txt\", \"r\")\n",
    "#r reads contents of a file\n",
    "\n",
    "contents = a_file.read()\n",
    "\n",
    "print(contents)"
   ]
  },
  {
   "cell_type": "markdown",
   "metadata": {},
   "source": [
    "Q7. What qualifies ASCII text as a form of Unicode text?"
   ]
  },
  {
   "cell_type": "markdown",
   "metadata": {},
   "source": [
    "The first 128 Unicode code points represent the ASCII characters, which means that any ASCII text is also a UTF-8 text. UCS-2 uses two bytes (16 bits) for each character but can only encode the first 65,536 code points, the so-called Basic Multilingual Plane (BMP).\n",
    "\n",
    "ASCII defines 128 characters, which map to the numbers 0–127. Unicode defines (less than) 221 characters, which, similarly, map to numbers 0–221 (though not all numbers are currently assigned, and some are reserved).\n",
    "\n",
    "When sending out your message, you have the option to choose between \"TEXT\" or \"UNICODE\" message encoding. With TEXT encoding, you can use all the most common characters in the alphabet. With UNICODE encoding, you can use special characters, like chinese, arabic, emoticons, etc."
   ]
  },
  {
   "cell_type": "markdown",
   "metadata": {},
   "source": [
    "Q8. How much of an effect does the change in string types in Python 3.X have on your code?"
   ]
  },
  {
   "cell_type": "markdown",
   "metadata": {},
   "source": [
    "In Python 3.X and later, there is only one string type that is unicode. So no effect on the code."
   ]
  }
 ],
 "metadata": {
  "kernelspec": {
   "display_name": "Python 3",
   "language": "python",
   "name": "python3"
  },
  "language_info": {
   "codemirror_mode": {
    "name": "ipython",
    "version": 3
   },
   "file_extension": ".py",
   "mimetype": "text/x-python",
   "name": "python",
   "nbconvert_exporter": "python",
   "pygments_lexer": "ipython3",
   "version": "3.8.5"
  }
 },
 "nbformat": 4,
 "nbformat_minor": 4
}
