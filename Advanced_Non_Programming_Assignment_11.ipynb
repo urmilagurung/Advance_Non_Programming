{
 "cells": [
  {
   "cell_type": "markdown",
   "metadata": {},
   "source": [
    "# Advanced Non Programming Assignment 11"
   ]
  },
  {
   "cell_type": "markdown",
   "metadata": {},
   "source": [
    "Q1. What is the concept of a metaclass?"
   ]
  },
  {
   "cell_type": "markdown",
   "metadata": {},
   "source": [
    "A metaclass in Python is a class of a class that defines how a class behaves. A class is itself an instance of a metaclass. A class in Python defines how the instance of the class will behave. In order to understand metaclasses well, one needs to have prior experience working with Python classes. Before we dive deeper into metaclasses, let's get a few concepts out of the way."
   ]
  },
  {
   "cell_type": "markdown",
   "metadata": {},
   "source": [
    "Q2. What is the best way to declare a class's metaclass?"
   ]
  },
  {
   "cell_type": "markdown",
   "metadata": {},
   "source": [
    "At first, the word Metaprogramming seems like a very funky and alien thing but if you have ever worked with decorators or metaclasses, you were doing metaprogramming there all along. In a nutshell, we can say metaprogramming is the code that manipulates code. In this article, we are going to discuss Metaclasses, why and when we should use them, and what are the alternatives. This is a fairly advance Python topic and the following prerequisite is expected –\n",
    "\n",
    "OOP concept in Python\n",
    "Decorators in Python"
   ]
  },
  {
   "cell_type": "markdown",
   "metadata": {},
   "source": [
    "When defining a class and no metaclass is defined the default type metaclass will be used. If a metaclass is given and it is not an instance of type(), then it is used directly as the metaclass."
   ]
  },
  {
   "cell_type": "code",
   "execution_count": 9,
   "metadata": {},
   "outputs": [
    {
     "name": "stdout",
     "output_type": "stream",
     "text": [
      "<class 'type'>\n",
      "<class '__main__.A'>\n",
      "<class '__main__.A'>\n"
     ]
    }
   ],
   "source": [
    "class A(type):\n",
    "    pass\n",
    "\n",
    "class B(metaclass=A):  # for class B, class A is a metaclass\n",
    "    pass\n",
    "class C(B):\n",
    "    pass\n",
    "\n",
    "print(type(A))\n",
    "print(type(B))\n",
    "print(type(C))"
   ]
  },
  {
   "cell_type": "markdown",
   "metadata": {},
   "source": [
    "Q3. How do class decorators overlap with metaclasses for handling classes?"
   ]
  },
  {
   "cell_type": "markdown",
   "metadata": {},
   "source": [
    "Both decorators and metaclass have some common things. When we want to aplly some common functionality to attributes of the class instances, both can be used. There are some problems which can be solved by decorators as well as by metaclasses. But there are a few problems that can only be solved by metaclasses. Use of metaclass affects its children while the decorator affects only the current class."
   ]
  },
  {
   "cell_type": "markdown",
   "metadata": {},
   "source": [
    "A decorator is a function that takes a function as its only parameter and returns a function. This is helpful to “wrap” functionality with the same code over and over again. For example, above code can be re-written as following."
   ]
  },
  {
   "cell_type": "code",
   "execution_count": 10,
   "metadata": {},
   "outputs": [
    {
     "name": "stdout",
     "output_type": "stream",
     "text": [
      "Welcome to iNeuron\n"
     ]
    }
   ],
   "source": [
    "# Adds a welcome message to the string\n",
    "# returned by fun(). Takes fun() as\n",
    "# parameter and returns welcome().\n",
    "def decorate_message(fun):\n",
    "    def addWelcome(site_name):\n",
    "        return \"Welcome to \" + fun(site_name)\n",
    "\n",
    "    # Decorator returns a function\n",
    "    return addWelcome\n",
    "\n",
    "@decorate_message\n",
    "def site(site_name):\n",
    "    return site_name;\n",
    "\n",
    "# Driver code\n",
    "\n",
    "# This call is equivalent to call to\n",
    "# decorate_message() with function\n",
    "# site(\"GeeksforGeeks\") as parameter\n",
    "print (site(\"iNeuron\"))"
   ]
  },
  {
   "cell_type": "markdown",
   "metadata": {},
   "source": [
    "Q4. How do class decorators overlap with metaclasses for handling instances?"
   ]
  },
  {
   "cell_type": "markdown",
   "metadata": {},
   "source": [
    "Both decorators and metaclass have some common things. When we want to aplly some common functionality to attributes of the class instances, both can be used. There are some problems which can be solved by decorators as well as by metaclasses. But there are a few problems that can only be solved by metaclasses. Use of metaclass affects its children while the decorator affects only the current class."
   ]
  }
 ],
 "metadata": {
  "kernelspec": {
   "display_name": "Python 3",
   "language": "python",
   "name": "python3"
  },
  "language_info": {
   "codemirror_mode": {
    "name": "ipython",
    "version": 3
   },
   "file_extension": ".py",
   "mimetype": "text/x-python",
   "name": "python",
   "nbconvert_exporter": "python",
   "pygments_lexer": "ipython3",
   "version": "3.8.5"
  }
 },
 "nbformat": 4,
 "nbformat_minor": 4
}
