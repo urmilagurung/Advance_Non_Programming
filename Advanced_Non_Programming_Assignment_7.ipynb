{
 "cells": [
  {
   "cell_type": "markdown",
   "metadata": {},
   "source": [
    "# Advanced Non Programming Assignment 7"
   ]
  },
  {
   "cell_type": "markdown",
   "metadata": {},
   "source": [
    "Q1. What is the purpose of the try statement?"
   ]
  },
  {
   "cell_type": "markdown",
   "metadata": {},
   "source": [
    "The Python try statement is meant to deal with exceptions. \n",
    "\n",
    "Try statement is used to trigger exception. If code in try block causes some run time error, then try will throw an exception. Exception is caught by except block.\n",
    "\n",
    "Some examples of exceptions are: Attempting to do arithmetic with a string variable Opening a file for writing when the system has marked it read-only Pressing the keyboard combination that stops execution Exceptions pose two problems.\n",
    "\n",
    "\n",
    "Simple Example: Division by Zero\n",
    "Python allows you to handle exceptions with the try-except block statement. Code that might generate an exception is placed within this block. Here’s an example:\n",
    "\n",
    "code that asks user for values of a and b\n",
    "\n",
    "code that reads the response and assigns them to the variables a and b\n"
   ]
  },
  {
   "cell_type": "code",
   "execution_count": 3,
   "metadata": {},
   "outputs": [
    {
     "name": "stdout",
     "output_type": "stream",
     "text": [
      "you tried to divide by zero : \n",
      " a =  2  b =  0\n"
     ]
    }
   ],
   "source": [
    "try:\n",
    "    a,b=2,0\n",
    "    c = a/b\n",
    "\n",
    "except ZeroDivisionError:\n",
    "\n",
    "    print('you tried to divide by zero : \\n a = ',a, ' b = ',b)\n"
   ]
  },
  {
   "cell_type": "markdown",
   "metadata": {},
   "source": [
    "  "
   ]
  },
  {
   "cell_type": "markdown",
   "metadata": {},
   "source": [
    "Q2. What are the two most popular try statement variations?"
   ]
  },
  {
   "cell_type": "markdown",
   "metadata": {},
   "source": [
    "The most popular try statement variations are:\n",
    "\n",
    "1. IOError – It occurs on errors like a file fails to open. \n",
    "\n",
    "2. ImportError – If a python module can’t be loaded or located. \n",
    "\n",
    "3. KeyboardInterrupt : when an unrequired key is pressed by the user ValueError : when built-in function receives a wrong argument \n",
    "        \n",
    "4. EOFError : if End-Of-File is hit without reading any dataif the file can’t be opened.\n",
    "\n",
    "Below is how try() works:\n",
    "\n",
    "First, try clause is executed i.e. the code between try and except clause. If there is no exception, then only try clause will run, except clause is finished. If any exception occured, try clause will be skipped and except clause will run. If any exception occurs, but the except clause within the code doesn’t handle it, it is passed on to the outer try statements. If the exception left unhandled, then the execution stops. A try statement can have more than one except clause"
   ]
  },
  {
   "cell_type": "markdown",
   "metadata": {},
   "source": [
    " "
   ]
  },
  {
   "cell_type": "markdown",
   "metadata": {},
   "source": [
    "Q3. What is the purpose of the raise statement?"
   ]
  },
  {
   "cell_type": "markdown",
   "metadata": {},
   "source": [
    "The purpose of the raise statement is to raise an exception. \n",
    "\n",
    "You can define what kind of error to raise, and the text to print to the user."
   ]
  },
  {
   "cell_type": "markdown",
   "metadata": {},
   "source": [
    " "
   ]
  },
  {
   "cell_type": "markdown",
   "metadata": {},
   "source": [
    "Q4. What does the assert statement do, and what other statement is it like?"
   ]
  },
  {
   "cell_type": "markdown",
   "metadata": {},
   "source": [
    "The assert statement lets you test if a condition in your code returns True, if not, the program will raise an AssertionError. It is like raise statement, where we can create our custom exceptions.\n",
    "\n"
   ]
  },
  {
   "cell_type": "code",
   "execution_count": 4,
   "metadata": {},
   "outputs": [
    {
     "ename": "AssertionError",
     "evalue": "number should be greater than 0",
     "output_type": "error",
     "traceback": [
      "\u001b[1;31m---------------------------------------------------------------------------\u001b[0m",
      "\u001b[1;31mAssertionError\u001b[0m                            Traceback (most recent call last)",
      "\u001b[1;32m<ipython-input-4-da6003f7a28a>\u001b[0m in \u001b[0;36m<module>\u001b[1;34m\u001b[0m\n\u001b[0;32m      1\u001b[0m \u001b[0mx\u001b[0m \u001b[1;33m=\u001b[0m \u001b[1;36m0\u001b[0m\u001b[1;33m\u001b[0m\u001b[1;33m\u001b[0m\u001b[0m\n\u001b[1;32m----> 2\u001b[1;33m \u001b[1;32massert\u001b[0m  \u001b[0mx\u001b[0m \u001b[1;33m>\u001b[0m \u001b[1;36m0\u001b[0m\u001b[1;33m,\u001b[0m \u001b[1;34m\"number should be greater than 0\"\u001b[0m\u001b[1;33m\u001b[0m\u001b[1;33m\u001b[0m\u001b[0m\n\u001b[0m\u001b[0;32m      3\u001b[0m \u001b[0mprint\u001b[0m\u001b[1;33m(\u001b[0m\u001b[1;34m\"even\"\u001b[0m\u001b[1;33m)\u001b[0m\u001b[1;33m\u001b[0m\u001b[1;33m\u001b[0m\u001b[0m\n",
      "\u001b[1;31mAssertionError\u001b[0m: number should be greater than 0"
     ]
    }
   ],
   "source": [
    "x = 0\n",
    "assert  x > 0, \"number should be greater than 0\"\n",
    "print(\"even\")"
   ]
  },
  {
   "cell_type": "markdown",
   "metadata": {},
   "source": [
    "Q5. What is the purpose of the with/as argument, and what other statement is it like?"
   ]
  },
  {
   "cell_type": "markdown",
   "metadata": {},
   "source": [
    "with statement in Python is used in exception handling to make the code cleaner and much more readable. It simplifies the management of common resources like file streams. The with statement itself ensures proper acquisition and release of resources. \n",
    "\n",
    "This allows common try…except…finally usage patterns to be encapsulated for convenient reuse.\n",
    "\n",
    "when \"as\" is used after \"with\", it will reassign the the returned object to a new identifier."
   ]
  },
  {
   "cell_type": "markdown",
   "metadata": {},
   "source": [
    " "
   ]
  },
  {
   "cell_type": "markdown",
   "metadata": {},
   "source": [
    " "
   ]
  }
 ],
 "metadata": {
  "kernelspec": {
   "display_name": "Python 3",
   "language": "python",
   "name": "python3"
  },
  "language_info": {
   "codemirror_mode": {
    "name": "ipython",
    "version": 3
   },
   "file_extension": ".py",
   "mimetype": "text/x-python",
   "name": "python",
   "nbconvert_exporter": "python",
   "pygments_lexer": "ipython3",
   "version": "3.8.5"
  }
 },
 "nbformat": 4,
 "nbformat_minor": 4
}
