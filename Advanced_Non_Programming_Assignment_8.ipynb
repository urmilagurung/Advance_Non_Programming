{
 "cells": [
  {
   "cell_type": "markdown",
   "metadata": {},
   "source": [
    "# Advanced Non Programming Assignment 8"
   ]
  },
  {
   "cell_type": "markdown",
   "metadata": {},
   "source": [
    "Q1. What are the two latest user-defined exception constraints in Python 3.X?"
   ]
  },
  {
   "cell_type": "markdown",
   "metadata": {},
   "source": [
    "The two latest user-defined exception constraints in Python 3.X are :"
   ]
  },
  {
   "cell_type": "markdown",
   "metadata": {},
   "source": [
    "1. raise statement - This is used to raise an inbuilt exception explicitly.\n",
    "\n",
    "\n",
    "2. assert statement - when condition in assert statement is true, program is executed normally. When condition is false, program gives an AssertionError."
   ]
  },
  {
   "cell_type": "markdown",
   "metadata": {},
   "source": [
    "Q2. How are class-based exceptions that have been raised matched to handlers?"
   ]
  },
  {
   "cell_type": "markdown",
   "metadata": {},
   "source": [
    "The class-based exceptions that have been raised matched to handlers are:\n",
    "\n"
   ]
  },
  {
   "cell_type": "markdown",
   "metadata": {},
   "source": [
    "Deriving Error from Super Class Exception\n",
    "\n",
    "Superclass Exceptions are created when a module needs to handle several distinct errors. One of the common ways of doing this is to create a base class for exceptions defined by that module. Further, various subclasses are defined to create specific exception classes for different error conditions."
   ]
  },
  {
   "cell_type": "code",
   "execution_count": 1,
   "metadata": {},
   "outputs": [
    {
     "name": "stdout",
     "output_type": "stream",
     "text": [
      "Exception occured:  Not Allowed\n"
     ]
    }
   ],
   "source": [
    "# class Error is derived from super class Exception\n",
    "class Error(Exception):\n",
    "\n",
    "\t# Error is derived class for Exception, but\n",
    "\t# Base class for exceptions in this module\n",
    "\tpass\n",
    "\n",
    "class TransitionError(Error):\n",
    "\n",
    "\t# Raised when an operation attempts a state\n",
    "\t# transition that's not allowed.\n",
    "\tdef __init__(self, prev, nex, msg):\n",
    "\t\tself.prev = prev\n",
    "\t\tself.next = nex\n",
    "\n",
    "\t\t# Error message thrown is saved in msg\n",
    "\t\tself.msg = msg\n",
    "try:\n",
    "\traise(TransitionError(2,3*2,\"Not Allowed\"))\n",
    "\n",
    "# Value of Exception is stored in error\n",
    "except TransitionError as error:\n",
    "\tprint('Exception occured: ',error.msg)"
   ]
  },
  {
   "cell_type": "markdown",
   "metadata": {},
   "source": [
    "How to use standard Exceptions as a base class? A runtime error is a class that is a standard exception that is raised when a generated error does not fall into any category. This program illustrates how to use runtime error as base class and network error as derived class. In a similar way, an exception can be derived from the standard exceptions of Python."
   ]
  },
  {
   "cell_type": "code",
   "execution_count": 2,
   "metadata": {},
   "outputs": [
    {
     "name": "stdout",
     "output_type": "stream",
     "text": [
      "('E', 'r', 'r', 'o', 'r')\n"
     ]
    }
   ],
   "source": [
    "# NetworkError has base RuntimeError\n",
    "# and not Exception\n",
    "class Networkerror(RuntimeError):\n",
    "\tdef __init__(self, arg):\n",
    "\t\tself.args = arg\n",
    "\n",
    "try:\n",
    "\traise Networkerror(\"Error\")\n",
    "\n",
    "except Networkerror as e:\n",
    "\tprint (e.args)"
   ]
  },
  {
   "cell_type": "markdown",
   "metadata": {},
   "source": []
  },
  {
   "cell_type": "markdown",
   "metadata": {},
   "source": [
    "Q3. Describe two methods for attaching context information to exception artefacts."
   ]
  },
  {
   "cell_type": "markdown",
   "metadata": {},
   "source": [
    "The two methods for attaching context information to exception artefacts are:\n",
    "    \n",
    "1. By using logging.exception() method, we can log log messages with level ERROR on the logger. I will store the information like type of error, line number, file name and path.\n",
    "\n",
    "\n",
    "2. By using raise keyword. It will also display Traceback of the recent exception raised."
   ]
  },
  {
   "cell_type": "code",
   "execution_count": 3,
   "metadata": {},
   "outputs": [
    {
     "name": "stderr",
     "output_type": "stream",
     "text": [
      "ERROR:root:division by zero\n",
      "Traceback (most recent call last):\n",
      "  File \"<ipython-input-3-ecac2bd4b516>\", line 4, in <module>\n",
      "    4/0\n",
      "ZeroDivisionError: division by zero\n"
     ]
    },
    {
     "ename": "ZeroDivisionError",
     "evalue": "division by zero",
     "output_type": "error",
     "traceback": [
      "\u001b[1;31m---------------------------------------------------------------------------\u001b[0m",
      "\u001b[1;31mZeroDivisionError\u001b[0m                         Traceback (most recent call last)",
      "\u001b[1;32m<ipython-input-3-ecac2bd4b516>\u001b[0m in \u001b[0;36m<module>\u001b[1;34m\u001b[0m\n\u001b[0;32m      2\u001b[0m \u001b[1;33m\u001b[0m\u001b[0m\n\u001b[0;32m      3\u001b[0m \u001b[1;32mtry\u001b[0m\u001b[1;33m:\u001b[0m\u001b[1;33m\u001b[0m\u001b[1;33m\u001b[0m\u001b[0m\n\u001b[1;32m----> 4\u001b[1;33m     \u001b[1;36m4\u001b[0m\u001b[1;33m/\u001b[0m\u001b[1;36m0\u001b[0m\u001b[1;33m\u001b[0m\u001b[1;33m\u001b[0m\u001b[0m\n\u001b[0m\u001b[0;32m      5\u001b[0m \u001b[1;32mexcept\u001b[0m \u001b[0mException\u001b[0m \u001b[1;32mas\u001b[0m \u001b[0me\u001b[0m\u001b[1;33m:\u001b[0m\u001b[1;33m\u001b[0m\u001b[1;33m\u001b[0m\u001b[0m\n\u001b[0;32m      6\u001b[0m     \u001b[0mlogging\u001b[0m\u001b[1;33m.\u001b[0m\u001b[0mexception\u001b[0m\u001b[1;33m(\u001b[0m\u001b[0me\u001b[0m\u001b[1;33m)\u001b[0m\u001b[1;33m\u001b[0m\u001b[1;33m\u001b[0m\u001b[0m\n",
      "\u001b[1;31mZeroDivisionError\u001b[0m: division by zero"
     ]
    }
   ],
   "source": [
    "import logging\n",
    "  \n",
    "try: \n",
    "    4/0\n",
    "except Exception as e: \n",
    "    logging.exception(e)\n",
    "    raise"
   ]
  },
  {
   "cell_type": "markdown",
   "metadata": {},
   "source": [
    " "
   ]
  },
  {
   "cell_type": "markdown",
   "metadata": {},
   "source": [
    "Q4. Describe two methods for specifying the text of an exception object's error message."
   ]
  },
  {
   "cell_type": "markdown",
   "metadata": {},
   "source": [
    "The two methods for specifying the text of an exception object's error message are:\n",
    "\n",
    "1. We can print the text of an exception, by using the object of an Exception class. We can access different attributes like messgae, args, traceback from that object.\n"
   ]
  },
  {
   "cell_type": "code",
   "execution_count": 4,
   "metadata": {},
   "outputs": [
    {
     "name": "stdout",
     "output_type": "stream",
     "text": [
      "can only concatenate str (not \"int\") to str\n"
     ]
    }
   ],
   "source": [
    "try:\n",
    "    a = 'abc'\n",
    "    b = 2    \n",
    "    c = a+b\n",
    "except TypeError as e:\n",
    "    print(e)"
   ]
  },
  {
   "cell_type": "markdown",
   "metadata": {},
   "source": [
    "2. By using logging.error() method"
   ]
  },
  {
   "cell_type": "code",
   "execution_count": 5,
   "metadata": {},
   "outputs": [
    {
     "name": "stderr",
     "output_type": "stream",
     "text": [
      "ERROR:root:[Errno 2] No such file or directory: 'one.txt'\n"
     ]
    }
   ],
   "source": [
    "try:\n",
    "    file = open('one.txt','r')\n",
    "except Exception as e:\n",
    "    logging.error(e)"
   ]
  },
  {
   "cell_type": "markdown",
   "metadata": {},
   "source": [
    "Q5. Why do you no longer use string-based exceptions?"
   ]
  },
  {
   "cell_type": "markdown",
   "metadata": {},
   "source": [
    "In Python versions 1.5 and earlier, Exceptions were strings and not classes. Now all exceptions are classes, derived from the superclass BaseException. With classes it is more efficiently handled as classes have many useful features."
   ]
  },
  {
   "cell_type": "markdown",
   "metadata": {},
   "source": []
  }
 ],
 "metadata": {
  "kernelspec": {
   "display_name": "Python 3",
   "language": "python",
   "name": "python3"
  },
  "language_info": {
   "codemirror_mode": {
    "name": "ipython",
    "version": 3
   },
   "file_extension": ".py",
   "mimetype": "text/x-python",
   "name": "python",
   "nbconvert_exporter": "python",
   "pygments_lexer": "ipython3",
   "version": "3.8.5"
  }
 },
 "nbformat": 4,
 "nbformat_minor": 4
}
